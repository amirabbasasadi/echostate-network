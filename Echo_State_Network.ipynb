{
  "nbformat": 4,
  "nbformat_minor": 0,
  "metadata": {
    "colab": {
      "name": "Echo State Network.ipynb",
      "provenance": [],
      "collapsed_sections": []
    },
    "kernelspec": {
      "name": "python3",
      "display_name": "Python 3"
    },
    "language_info": {
      "name": "python"
    }
  },
  "cells": [
    {
      "cell_type": "markdown",
      "source": [
        "# An Implementation of Echo State Network in PyTorch\n",
        "Amirabbas Asadi, amir137825@gmail.com"
      ],
      "metadata": {
        "id": "GjrugVpJqSdq"
      }
    },
    {
      "cell_type": "code",
      "execution_count": null,
      "metadata": {
        "id": "0Nju2lWxqV6y"
      },
      "outputs": [],
      "source": [
        "import torch\n",
        "from torch import nn\n",
        "import matplotlib.pyplot as plt"
      ]
    },
    {
      "cell_type": "markdown",
      "source": [
        "## Creating A Simple Regression Data"
      ],
      "metadata": {
        "id": "OXc0MfVaoboW"
      }
    },
    {
      "cell_type": "code",
      "source": [
        "X = torch.linspace(0, 1, 100)\n",
        "y = torch.sin(6.0*X) + 0.05*torch.randn_like(X)\n",
        "_ = plt.plot(y)"
      ],
      "metadata": {
        "colab": {
          "base_uri": "https://localhost:8080/",
          "height": 265
        },
        "id": "TG5sojTBivZe",
        "outputId": "e3680981-1784-4292-f895-e7d0d09f9444"
      },
      "execution_count": null,
      "outputs": [
        {
          "output_type": "display_data",
          "data": {
            "image/png": "[encoded data removed]",
            "text/plain": [
              "<Figure size 432x288 with 1 Axes>"
            ]
          },
          "metadata": {
            "needs_background": "light"
          }
        }
      ]
    },
    {
      "cell_type": "markdown",
      "source": [
        "## Reservoir Network"
      ],
      "metadata": {
        "id": "kO8CqE9Yp58f"
      }
    },
    {
      "cell_type": "code",
      "source": [
        "class Reservoir(nn.Module):\n",
        "  def __init__(self, hidden_dim, connectivity):\n",
        "    super().__init__()\n",
        "    \n",
        "    self.Wx = self.sparse_matrix(hidden_dim, connectivity)\n",
        "    self.Wh = self.sparse_matrix(hidden_dim, connectivity)\n",
        "    self.Uh = self.sparse_matrix(hidden_dim, connectivity)\n",
        "    self.act = nn.Tanh()\n",
        "\n",
        "  def sparse_matrix(self, m, p):\n",
        "    mask_distribution = torch.distributions.Bernoulli(p)\n",
        "    S = torch.randn((m, m))\n",
        "    mask = mask_distribution.sample(S.shape)\n",
        "    S = (S*mask).to_sparse()\n",
        "    return S\n",
        "\n",
        "  def forward(self, x, h):\n",
        "    h = self.act(torch.sparse.mm(self.Uh, h.T).T +\n",
        "                 torch.sparse.mm(self.Wh, x.T).T)\n",
        "    y = self.act(torch.sparse.mm(self.Wx, h.T).T)\n",
        "\n",
        "    return y, h"
      ],
      "metadata": {
        "id": "5MDYTVuLqhqJ"
      },
      "execution_count": null,
      "outputs": []
    },
    {
      "cell_type": "markdown",
      "source": [
        "## Echo State Network"
      ],
      "metadata": {
        "id": "ZDVJ5NreqDXQ"
      }
    },
    {
      "cell_type": "code",
      "source": [
        "class EchoState(nn.Module):\n",
        "  def __init__(self, in_dim, out_dim, reservoir_dim, connectivity):\n",
        "    super().__init__()\n",
        "\n",
        "    self.reservoir_dim = reservoir_dim\n",
        "    self.input_to_reservoir = nn.Linear(in_dim, reservoir_dim)\n",
        "    self.input_to_reservoir.requires_grad_(False)\n",
        "\n",
        "    self.reservoir = Reservoir(reservoir_dim, connectivity)\n",
        "    self.readout = nn.Linear(reservoir_dim, out_dim)\n",
        "  \n",
        "  def forward(self, x):\n",
        "    reservoir_in = self.input_to_reservoir(x)\n",
        "    h = torch.ones(x.size(0), self.reservoir_dim)\n",
        "    reservoirs = []\n",
        "    for i in range(x.size(1)):\n",
        "      out, h = self.reservoir(reservoir_in[:, i, :], h)\n",
        "      reservoirs.append(out.unsqueeze(1))\n",
        "    reservoirs = torch.cat(reservoirs, dim=1)\n",
        "    outputs = self.readout(reservoirs)\n",
        "    return outputs"
      ],
      "metadata": {
        "id": "Ppr0Dy9xqBiT"
      },
      "execution_count": null,
      "outputs": []
    },
    {
      "cell_type": "markdown",
      "source": [
        "## Training the model\n",
        "we only need to train the last layer"
      ],
      "metadata": {
        "id": "Ja3OA3kXqHO1"
      }
    },
    {
      "cell_type": "code",
      "source": [
        "model = EchoState(in_dim=1, out_dim=1, reservoir_dim=128, connectivity=0.05)\n",
        "optimizer = torch.optim.Adam(model.readout.parameters(), lr=0.02)\n",
        "loss_fn = nn.MSELoss()"
      ],
      "metadata": {
        "id": "t8SurvZ-k3yM"
      },
      "execution_count": null,
      "outputs": []
    },
    {
      "cell_type": "code",
      "source": [
        "epochs = 100\n",
        "for epoch in range(epochs):\n",
        "  optimizer.zero_grad()\n",
        "  y_pred = model(X.view(1, -1, 1))\n",
        "  loss = loss_fn(y_pred.squeeze(), y)\n",
        "  loss.backward()\n",
        "  optimizer.step()\n",
        "  print(loss.item())"
      ],
      "metadata": {
        "colab": {
          "base_uri": "https://localhost:8080/"
        },
        "id": "spMTjqZ-z5Kb",
        "outputId": "1c792834-3e12-4b09-985a-767413b34a73"
      },
      "execution_count": null,
      "outputs": [
        {
          "output_type": "stream",
          "name": "stdout",
          "text": [
            "0.7701162099838257\n",
            "1.196458101272583\n",
            "0.511161744594574\n",
            "0.2495274692773819\n",
            "0.5351395606994629\n",
            "0.4610131084918976\n",
            "0.19651708006858826\n",
            "0.17110416293144226\n",
            "0.3226008713245392\n",
            "0.33410152792930603\n",
            "0.20049113035202026\n",
            "0.13059097528457642\n",
            "0.19515514373779297\n",
            "0.25469231605529785\n",
            "0.20490168035030365\n",
            "0.1172800287604332\n",
            "0.09987965226173401\n",
            "0.14338868856430054\n",
            "0.15616115927696228\n",
            "0.11204849928617477\n",
            "0.07502100616693497\n",
            "0.09087648242712021\n",
            "0.12279993295669556\n",
            "0.1166682243347168\n",
            "0.08274400979280472\n",
            "0.06906598806381226\n",
            "0.08472481369972229\n",
            "0.09282337129116058\n",
            "0.07424578070640564\n",
            "0.05426151305437088\n",
            "0.056787945330142975\n",
            "0.06764312088489532\n",
            "0.06270163506269455\n",
            "0.047788701951503754\n",
            "0.04469263181090355\n",
            "0.05359535291790962\n",
            "0.05580190196633339\n",
            "0.04695511981844902\n",
            "0.04153374582529068\n",
            "0.04547346010804176\n",
            "0.04748743399977684\n",
            "0.04116962105035782\n",
            "0.03552572429180145\n",
            "0.037260331213474274\n",
            "0.03958965837955475\n",
            "0.03627360984683037\n",
            "0.032465189695358276\n",
            "0.033538591116666794\n",
            "0.03527538850903511\n",
            "0.03301936015486717\n",
            "0.030252957716584206\n",
            "0.030832313001155853\n",
            "0.031723178923130035\n",
            "0.029780643060803413\n",
            "0.027726667001843452\n",
            "0.028091564774513245\n",
            "0.02848842926323414\n",
            "0.027074573561549187\n",
            "0.026030277833342552\n",
            "0.026565562933683395\n",
            "0.02660716325044632\n",
            "0.025380009785294533\n",
            "0.024717433378100395\n",
            "0.02497333474457264\n",
            "0.02459685131907463\n",
            "0.023635592311620712\n",
            "0.02338273823261261\n",
            "0.02350503019988537\n",
            "0.023000646382570267\n",
            "0.022396326065063477\n",
            "0.022385910153388977\n",
            "0.022332560271024704\n",
            "0.021823566406965256\n",
            "0.021488744765520096\n",
            "0.021461954340338707\n",
            "0.021181738004088402\n",
            "0.02074296399950981\n",
            "0.02059842087328434\n",
            "0.020518114790320396\n",
            "0.020208291709423065\n",
            "0.0199586134403944\n",
            "0.019886285066604614\n",
            "0.019697822630405426\n",
            "0.019417105242609978\n",
            "0.019278641790151596\n",
            "0.01916174218058586\n",
            "0.018926359713077545\n",
            "0.018736930564045906\n",
            "0.01863505318760872\n",
            "0.01846819929778576\n",
            "0.018277261406183243\n",
            "0.01816493459045887\n",
            "0.01804005168378353\n",
            "0.017860479652881622\n",
            "0.017722193151712418\n",
            "0.017610125243663788\n",
            "0.01745648868381977\n",
            "0.017313571646809578\n",
            "0.01720782369375229\n",
            "0.01707991398870945\n"
          ]
        }
      ]
    },
    {
      "cell_type": "code",
      "source": [
        "with torch.no_grad():\n",
        "  y_pred = model(X.view(1, -1, 1)).squeeze()\n",
        "\n",
        "plt.plot(y, label='original')\n",
        "plt.plot(y_pred.detach().numpy(), label='predicted')\n",
        "plt.legend()\n",
        "_ = plt.show()"
      ],
      "metadata": {
        "colab": {
          "base_uri": "https://localhost:8080/",
          "height": 265
        },
        "id": "psJR9tBPkjMA",
        "outputId": "0270b6b4-6bd6-4b8a-e6d6-588ef301bf7d"
      },
      "execution_count": null,
      "outputs": [
        {
          "output_type": "display_data",
          "data": {
            "image/png": "[encoded data removed]",
            "text/plain": [
              "<Figure size 432x288 with 1 Axes>"
            ]
          },
          "metadata": {
            "needs_background": "light"
          }
        }
      ]
    }
  ]
}